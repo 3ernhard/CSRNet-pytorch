{
 "cells": [
  {
   "cell_type": "code",
   "execution_count": 2,
   "metadata": {
    "collapsed": true
   },
   "outputs": [],
   "source": [
    "import h5py\n",
    "import scipy.io as io\n",
    "import PIL.Image as Image\n",
    "import numpy as np\n",
    "import os\n",
    "import glob\n",
    "from matplotlib import pyplot as plt\n",
    "from scipy.ndimage.filters import gaussian_filter \n",
    "import scipy\n",
    "import json\n",
    "from matplotlib import cm as CM\n",
    "from image import *\n",
    "from model import CSRNet\n",
    "import torch\n",
    "%matplotlib inline"
   ]
  },
  {
   "cell_type": "code",
   "execution_count": 10,
   "metadata": {
    "collapsed": true
   },
   "outputs": [],
   "source": [
    "from torchvision import datasets, transforms\n",
    "transform=transforms.Compose([\n",
    "                       transforms.ToTensor(),transforms.Normalize(mean=[0.485, 0.456, 0.406],\n",
    "                                     std=[0.229, 0.224, 0.225]),\n",
    "                   ])"
   ]
  },
  {
   "cell_type": "code",
   "execution_count": 3,
   "metadata": {
    "collapsed": true
   },
   "outputs": [],
   "source": [
    "root = '/home/leeyh/Downloads/Shanghai/'"
   ]
  },
  {
   "cell_type": "code",
   "execution_count": 4,
   "metadata": {
    "collapsed": true
   },
   "outputs": [],
   "source": [
    "#now generate the ShanghaiA's ground truth\n",
    "part_A_train = os.path.join(root,'part_A_final/train_data','images')\n",
    "part_A_test = os.path.join(root,'part_A_final/test_data','images')\n",
    "part_B_train = os.path.join(root,'part_B_final/train_data','images')\n",
    "part_B_test = os.path.join(root,'part_B_final/test_data','images')\n",
    "path_sets = [part_A_test]"
   ]
  },
  {
   "cell_type": "code",
   "execution_count": 5,
   "metadata": {
    "collapsed": true
   },
   "outputs": [],
   "source": [
    "img_paths = []\n",
    "for path in path_sets:\n",
    "    for img_path in glob.glob(os.path.join(path, '*.jpg')):\n",
    "        img_paths.append(img_path)"
   ]
  },
  {
   "cell_type": "code",
   "execution_count": 6,
   "metadata": {
    "collapsed": true
   },
   "outputs": [],
   "source": [
    "model = CSRNet()"
   ]
  },
  {
   "cell_type": "code",
   "execution_count": 7,
   "metadata": {
    "collapsed": true
   },
   "outputs": [],
   "source": [
    "model = model.cuda()"
   ]
  },
  {
   "cell_type": "code",
   "execution_count": 35,
   "metadata": {
    "collapsed": true
   },
   "outputs": [],
   "source": [
    "checkpoint = torch.load('model_best.pth.tar')"
   ]
  },
  {
   "cell_type": "code",
   "execution_count": 36,
   "metadata": {
    "collapsed": true
   },
   "outputs": [],
   "source": [
    "model.load_state_dict(checkpoint['state_dict'])"
   ]
  },
  {
   "cell_type": "code",
   "execution_count": 37,
   "metadata": {
    "scrolled": true
   },
   "outputs": [
    {
     "name": "stdout",
     "output_type": "stream",
     "text": [
      "0 19.4618225098\n",
      "1 56.0270690918\n",
      "2 237.42098999\n",
      "3 250.008789062\n",
      "4 277.621917725\n",
      "5 292.61365509\n",
      "6 431.04094696\n",
      "7 621.934074402\n",
      "8 626.175041199\n",
      "9 683.771781921\n",
      "10 728.903190613\n",
      "11 988.464836121\n",
      "12 1072.35503387\n",
      "13 1086.75745392\n",
      "14 1139.51770782\n",
      "15 1187.12958527\n",
      "16 1244.76972198\n",
      "17 1357.30127716\n",
      "18 1499.7251358\n",
      "19 1531.53779602\n",
      "20 1564.71266174\n",
      "21 1741.81813049\n",
      "22 1799.57826233\n",
      "23 1856.79542542\n",
      "24 1997.93318176\n",
      "25 2001.67614746\n",
      "26 2056.48977661\n",
      "27 2094.64889526\n",
      "28 2146.35804749\n",
      "29 2298.53785706\n",
      "30 2316.62382507\n",
      "31 2353.09817505\n",
      "32 2409.85276794\n",
      "33 2575.56442261\n",
      "34 2594.92245483\n",
      "35 2610.66140747\n",
      "36 2621.21057129\n",
      "37 2629.99487305\n",
      "38 2740.87393188\n",
      "39 2842.61392212\n",
      "40 2846.01530457\n",
      "41 2906.07719421\n",
      "42 2927.62335968\n",
      "43 2987.65406036\n",
      "44 3014.2397995\n",
      "45 3143.8065567\n",
      "46 3825.0911026\n",
      "47 3854.01618195\n",
      "48 3854.2317276\n",
      "49 3871.20517731\n",
      "50 3919.21517181\n",
      "51 4017.22032928\n",
      "52 4080.6140976\n",
      "53 4200.34767914\n",
      "54 4204.83093262\n",
      "55 4231.756073\n",
      "56 4265.32553101\n",
      "57 4424.53753662\n",
      "58 4475.64712524\n",
      "59 4498.09152222\n",
      "60 4507.92364502\n",
      "61 4591.38598633\n",
      "62 5263.52233887\n",
      "63 5319.88248444\n",
      "64 5332.1350174\n",
      "65 5376.45218658\n",
      "66 5392.77988434\n",
      "67 5401.44593048\n",
      "68 5416.74645996\n",
      "69 5436.06001282\n",
      "70 5448.15977478\n",
      "71 5576.00923157\n",
      "72 5579.33106995\n",
      "73 5586.95721436\n",
      "74 5588.11471558\n",
      "75 5678.79916382\n",
      "76 5682.88973999\n",
      "77 5725.27778625\n",
      "78 5736.30226898\n",
      "79 5771.19741058\n",
      "80 5811.19149017\n",
      "81 5824.96138763\n",
      "82 5834.11888885\n",
      "83 5947.03836823\n",
      "84 6013.73825836\n",
      "85 6390.13535309\n",
      "86 6408.87058258\n",
      "87 6522.7798233\n",
      "88 6578.29563141\n",
      "89 6603.27223969\n",
      "90 6635.32227325\n",
      "91 6730.25882721\n",
      "92 6801.40213776\n",
      "93 6909.81742096\n",
      "94 6937.8323288\n",
      "95 7019.79405975\n",
      "96 7063.25547791\n",
      "97 7117.73429871\n",
      "98 7129.81942749\n",
      "99 7185.96954346\n",
      "100 7190.55944824\n",
      "101 7196.98799896\n",
      "102 7266.98529816\n",
      "103 7335.17237091\n",
      "104 7350.66429901\n",
      "105 7385.70639801\n",
      "106 7395.49320221\n",
      "107 7439.77884674\n",
      "108 7511.29850006\n",
      "109 7542.2691803\n",
      "110 7579.56774902\n",
      "111 7629.28623962\n",
      "112 7670.6678009\n",
      "113 8237.04597473\n",
      "114 8240.53913879\n",
      "115 8253.49259949\n",
      "116 8304.01672363\n",
      "117 8310.44578552\n",
      "118 8376.13551331\n",
      "119 8760.56147766\n",
      "120 8882.4995575\n",
      "121 8924.51026917\n",
      "122 8956.31446838\n",
      "123 8966.2590332\n",
      "124 9008.1720047\n",
      "125 9037.7233963\n",
      "126 9110.97364044\n",
      "127 9153.85459137\n",
      "128 9258.70230865\n",
      "129 9270.936409\n",
      "130 9281.28889465\n",
      "131 9366.68977356\n",
      "132 9451.58744812\n",
      "133 9463.27400208\n",
      "134 9497.63337708\n",
      "135 9553.49058533\n",
      "136 9637.96739197\n",
      "137 9787.21612549\n",
      "138 9792.11479187\n",
      "139 9803.93479919\n",
      "140 9812.38310242\n",
      "141 9935.78208923\n",
      "142 9974.81565857\n",
      "143 9990.60961914\n",
      "144 10020.6782227\n",
      "145 10028.6179047\n",
      "146 10060.3001251\n",
      "147 10088.8991852\n",
      "148 10571.8315582\n",
      "149 10873.9037018\n",
      "150 10888.4490051\n",
      "151 10960.2030945\n",
      "152 10989.1212463\n",
      "153 11018.6899109\n",
      "154 11064.8558197\n",
      "155 11444.1898041\n",
      "156 11481.3350754\n",
      "157 11560.8981857\n",
      "158 11620.5375443\n",
      "159 11850.0585403\n",
      "160 11873.5350418\n",
      "161 11981.6933823\n",
      "162 11989.2273636\n",
      "163 12319.8286514\n",
      "164 12401.3600235\n",
      "165 12403.5989914\n",
      "166 12469.7518234\n",
      "167 12480.6721001\n",
      "168 12506.9685478\n",
      "169 12532.7877007\n",
      "170 12589.4034233\n",
      "171 12592.8598442\n",
      "172 12661.247097\n",
      "173 12731.1414146\n",
      "174 12743.8717613\n",
      "175 12929.8569603\n",
      "176 13235.2554588\n",
      "177 13238.8826027\n",
      "178 13275.4989357\n",
      "179 13288.6458931\n",
      "180 13394.130024\n",
      "181 13405.9427986\n",
      "73.659026366\n"
     ]
    }
   ],
   "source": [
    "mae = 0\n",
    "for i in xrange(len(img_paths)):\n",
    "    img = transform(Image.open(img_paths[i]).convert('RGB')).cuda()\n",
    "    gt_file = h5py.File(img_paths[i].replace('.jpg','.h5').replace('images','ground_truth'),'r')\n",
    "    groundtruth = np.asarray(gt_file['density'])\n",
    "    output = model(img.unsqueeze(0))\n",
    "    mae += abs(output.detach().cpu().sum().numpy()-np.sum(groundtruth))\n",
    "    print i,mae\n",
    "print mae/len(img_paths)"
   ]
  },
  {
   "cell_type": "code",
   "execution_count": null,
   "metadata": {
    "collapsed": true
   },
   "outputs": [],
   "source": []
  }
 ],
 "metadata": {
  "kernelspec": {
   "display_name": "Python 2",
   "language": "python",
   "name": "python2"
  },
  "language_info": {
   "codemirror_mode": {
    "name": "ipython",
    "version": 2
   },
   "file_extension": ".py",
   "mimetype": "text/x-python",
   "name": "python",
   "nbconvert_exporter": "python",
   "pygments_lexer": "ipython2",
   "version": "2.7.13"
  }
 },
 "nbformat": 4,
 "nbformat_minor": 2
}
